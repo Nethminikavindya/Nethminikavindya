{
  "nbformat": 4,
  "nbformat_minor": 0,
  "metadata": {
    "colab": {
      "provenance": [],
      "authorship_tag": "ABX9TyPZx5foWOUZMm3Hrobcd4RK",
      "include_colab_link": true
    },
    "kernelspec": {
      "name": "python3",
      "display_name": "Python 3"
    },
    "language_info": {
      "name": "python"
    }
  },
  "cells": [
    {
      "cell_type": "markdown",
      "metadata": {
        "id": "view-in-github",
        "colab_type": "text"
      },
      "source": [
        "<a href=\"https://colab.research.google.com/github/Nethminikavindya/Nethminikavindya/blob/main/Singlish_Dummy.ipynb\" target=\"_parent\"><img src=\"https://colab.research.google.com/assets/colab-badge.svg\" alt=\"Open In Colab\"/></a>"
      ]
    },
    {
      "cell_type": "code",
      "execution_count": 1,
      "metadata": {
        "colab": {
          "base_uri": "https://localhost:8080/"
        },
        "id": "plV24NRiJhiR",
        "outputId": "35266862-92ec-45ff-b19c-f9bfecb21958"
      },
      "outputs": [
        {
          "output_type": "stream",
          "name": "stdout",
          "text": [
            "Requirement already satisfied: pandas in /usr/local/lib/python3.11/dist-packages (2.2.2)\n",
            "Requirement already satisfied: scikit-learn in /usr/local/lib/python3.11/dist-packages (1.6.1)\n",
            "Requirement already satisfied: nltk in /usr/local/lib/python3.11/dist-packages (3.9.1)\n",
            "Requirement already satisfied: numpy>=1.23.2 in /usr/local/lib/python3.11/dist-packages (from pandas) (1.26.4)\n",
            "Requirement already satisfied: python-dateutil>=2.8.2 in /usr/local/lib/python3.11/dist-packages (from pandas) (2.8.2)\n",
            "Requirement already satisfied: pytz>=2020.1 in /usr/local/lib/python3.11/dist-packages (from pandas) (2025.1)\n",
            "Requirement already satisfied: tzdata>=2022.7 in /usr/local/lib/python3.11/dist-packages (from pandas) (2025.1)\n",
            "Requirement already satisfied: scipy>=1.6.0 in /usr/local/lib/python3.11/dist-packages (from scikit-learn) (1.13.1)\n",
            "Requirement already satisfied: joblib>=1.2.0 in /usr/local/lib/python3.11/dist-packages (from scikit-learn) (1.4.2)\n",
            "Requirement already satisfied: threadpoolctl>=3.1.0 in /usr/local/lib/python3.11/dist-packages (from scikit-learn) (3.5.0)\n",
            "Requirement already satisfied: click in /usr/local/lib/python3.11/dist-packages (from nltk) (8.1.8)\n",
            "Requirement already satisfied: regex>=2021.8.3 in /usr/local/lib/python3.11/dist-packages (from nltk) (2024.11.6)\n",
            "Requirement already satisfied: tqdm in /usr/local/lib/python3.11/dist-packages (from nltk) (4.67.1)\n",
            "Requirement already satisfied: six>=1.5 in /usr/local/lib/python3.11/dist-packages (from python-dateutil>=2.8.2->pandas) (1.17.0)\n"
          ]
        }
      ],
      "source": [
        "!pip install pandas scikit-learn nltk"
      ]
    },
    {
      "cell_type": "code",
      "source": [
        "# Define the custom Singlish sentiment lexicon\n",
        "custom_lexicon = {\n",
        "    \"harima\": 1.0,  # Very positive\n",
        "    \"lassanayi\": 1.0,  # Very positive\n",
        "    \"hodai\": 1.0,  # Good\n",
        "    \"hari\": 1.0,  # Very\n",
        "    \"ape\": 0.5,  # Our (positive connotation)\n",
        "    \"naraka\": -1.0,  # Very bad\n",
        "     \"waradak\": -1.0,  # Very bad\n",
        "    \"kisiwath\": -1.0,  # Not at all\n",
        "    \"ne\": -0.5,  # Not (negative)\n",
        "    \"mama\": 0.0,  # I (neutral)\n",
        "    \"eka\": 0.0,  # One (neutral)\n",
        "    \"samanya\": 0.0,  # Normal (neutral)\n",
        "    \"hondai\": 1.0,  # Good\n",
        "    \"bohoma\": 1.0,  # Very\n",
        "    \"aliyata\": 0.5,  # Beautiful\n",
        "    \"weda\": -0.5,  # Work (neutral/negative depending on context)\n",
        "    \"gahanna\": -0.5,  # To take (neutral/negative depending on context)\n",
        "}"
      ],
      "metadata": {
        "id": "g6ZFs6KvSl-S"
      },
      "execution_count": 13,
      "outputs": []
    },
    {
      "cell_type": "code",
      "source": [
        "import pandas as pd"
      ],
      "metadata": {
        "id": "SFUkD1WrJ2Yh"
      },
      "execution_count": 2,
      "outputs": []
    },
    {
      "cell_type": "code",
      "source": [
        "# Convert the lexicon to a DataFrame\n",
        "lexicon_df = pd.DataFrame(list(custom_lexicon.items()), columns=['word', 'sentiment_score'])\n",
        "\n",
        "# Save the lexicon to a CSV file\n",
        "lexicon_df.to_csv('singlish_lexicon.csv', index=False)\n",
        "\n",
        "print(\"Lexicon saved as 'singlish_lexicon.csv'\")"
      ],
      "metadata": {
        "colab": {
          "base_uri": "https://localhost:8080/"
        },
        "id": "XNtEbhWDS1gm",
        "outputId": "b3b7a56f-3b4c-4df8-dace-9e682fe67c53"
      },
      "execution_count": 14,
      "outputs": [
        {
          "output_type": "stream",
          "name": "stdout",
          "text": [
            "Lexicon saved as 'singlish_lexicon.csv'\n"
          ]
        }
      ]
    },
    {
      "cell_type": "code",
      "source": [
        "# Load the lexicon from the CSV file\n",
        "lexicon_df = pd.read_csv('singlish_lexicon.csv')\n",
        "custom_lexicon = dict(zip(lexicon_df['word'], lexicon_df['sentiment_score']))\n",
        "\n",
        "print(\"Custom Lexicon:\", custom_lexicon)"
      ],
      "metadata": {
        "colab": {
          "base_uri": "https://localhost:8080/"
        },
        "id": "5Bzz6X36S9Y1",
        "outputId": "11e1112e-e8ab-4691-9f01-44aecc749823"
      },
      "execution_count": 15,
      "outputs": [
        {
          "output_type": "stream",
          "name": "stdout",
          "text": [
            "Custom Lexicon: {'harima': 1.0, 'lassanayi': 1.0, 'hodai': 1.0, 'hari': 1.0, 'ape': 0.5, 'naraka': -1.0, 'waradak': -1.0, 'kisiwath': -1.0, 'ne': -0.5, 'mama': 0.0, 'eka': 0.0, 'samanya': 0.0, 'hondai': 1.0, 'bohoma': 1.0, 'aliyata': 0.5, 'weda': -0.5, 'gahanna': -0.5}\n"
          ]
        }
      ]
    },
    {
      "cell_type": "code",
      "source": [
        "# Load the dataset\n",
        "df = pd.read_csv('/content/converted_data.csv')"
      ],
      "metadata": {
        "id": "UHbil4qtKrZU"
      },
      "execution_count": 3,
      "outputs": []
    },
    {
      "cell_type": "code",
      "source": [
        "# Display the first few rows\n",
        "print(df.head())"
      ],
      "metadata": {
        "colab": {
          "base_uri": "https://localhost:8080/"
        },
        "id": "hIlQAwTbKxsr",
        "outputId": "57acce03-2b1c-48ec-c3ce-9d10165d446e"
      },
      "execution_count": 4,
      "outputs": [
        {
          "output_type": "stream",
          "name": "stdout",
          "text": [
            "                                             Sinhala  \\\n",
            "0  c esc ma tete මෙය මගේ ප්‍රධාන අයිතියයි ඔබ ප්‍ර...   \n",
            "1  නෑ නෑ ඒක මගේ වරදක් අපිට හරි හමන් කැමරොන් කෙනෙක...   \n",
            "2  හැක් කිරීම සහ කට වහගෙන කෙළ ගසන කොටස නොවේ කරුණා...   \n",
            "3  හොඳයි, මම හිතුවා අපි උච්චාරණයෙන් පටන් ගනිමු එය...   \n",
            "4  ඔයා මගෙන් අහනවා ඒක හරිම ලස්සනයි ඔයාගේ නම මොකක්...   \n",
            "\n",
            "                                             English  \\\n",
            "0  c esc ma tete this is my headright see you re ...   \n",
            "1  no no it s my fault we didn t have a proper in...   \n",
            "2  not the hacking and gagging and spitting part ...   \n",
            "3  well i thought we d start with pronunciation i...   \n",
            "4  you re asking me out that s so cute what s you...   \n",
            "\n",
            "                                            Singlish  \n",
            "0  [Unkown] [Unkown] [Unkown] [Unkown] meya mage ...  \n",
            "1  ne ne eka mage waradak apita hari haman [Unkow...  \n",
            "2  hek kireema saha kata wahagena kela gasana kot...  \n",
            "3  hondayi mama hithuwa api uchcharanayen patan g...  \n",
            "4  oya magen ahanawa eka harima lassanayi oyage n...  \n"
          ]
        }
      ]
    },
    {
      "cell_type": "code",
      "source": [
        "# Focus on the Singlish column\n",
        "singlish_texts = df['Singlish']\n",
        "print(singlish_texts.head())"
      ],
      "metadata": {
        "colab": {
          "base_uri": "https://localhost:8080/"
        },
        "id": "-NveWem8Kz1S",
        "outputId": "7bff49d4-4134-47aa-e54c-218339dcda49"
      },
      "execution_count": 6,
      "outputs": [
        {
          "output_type": "stream",
          "name": "stdout",
          "text": [
            "0    [Unkown] [Unkown] [Unkown] [Unkown] meya mage ...\n",
            "1    ne ne eka mage waradak apita hari haman [Unkow...\n",
            "2    hek kireema saha kata wahagena kela gasana kot...\n",
            "3    hondayi mama hithuwa api uchcharanayen patan g...\n",
            "4    oya magen ahanawa eka harima lassanayi oyage n...\n",
            "Name: Singlish, dtype: object\n"
          ]
        }
      ]
    },
    {
      "cell_type": "code",
      "source": [
        "import re"
      ],
      "metadata": {
        "id": "xwGmvANQK3oq"
      },
      "execution_count": 7,
      "outputs": []
    },
    {
      "cell_type": "code",
      "source": [
        "def clean_singlish_text(text):\n",
        "    # Remove special characters and numbers (keep English letters and spaces)\n",
        "    text = re.sub(r'[^a-zA-Z\\s]', '', text)\n",
        "    # Convert to lowercase\n",
        "    text = text.lower()\n",
        "    return text\n",
        "\n",
        "# Apply the cleaning function\n",
        "df['cleaned_singlish'] = df['Singlish'].apply(clean_singlish_text)"
      ],
      "metadata": {
        "id": "tgo7a-c7LBBd"
      },
      "execution_count": 9,
      "outputs": []
    },
    {
      "cell_type": "code",
      "source": [
        "# Display the cleaned text\n",
        "print(df[['Singlish', 'cleaned_singlish']].head())"
      ],
      "metadata": {
        "colab": {
          "base_uri": "https://localhost:8080/"
        },
        "id": "xL8XoQ8ILFa6",
        "outputId": "7b84897d-1f4e-4e51-e8d5-a45cebc8f91a"
      },
      "execution_count": 10,
      "outputs": [
        {
          "output_type": "stream",
          "name": "stdout",
          "text": [
            "                                            Singlish  \\\n",
            "0  [Unkown] [Unkown] [Unkown] [Unkown] meya mage ...   \n",
            "1  ne ne eka mage waradak apita hari haman [Unkow...   \n",
            "2  hek kireema saha kata wahagena kela gasana kot...   \n",
            "3  hondayi mama hithuwa api uchcharanayen patan g...   \n",
            "4  oya magen ahanawa eka harima lassanayi oyage n...   \n",
            "\n",
            "                                    cleaned_singlish  \n",
            "0  unkown unkown unkown unkown meya mage pradhana...  \n",
            "1  ne ne eka mage waradak apita hari haman unkown...  \n",
            "2  hek kireema saha kata wahagena kela gasana kot...  \n",
            "3  hondayi mama hithuwa api uchcharanayen patan g...  \n",
            "4  oya magen ahanawa eka harima lassanayi oyage n...  \n"
          ]
        }
      ]
    },
    {
      "cell_type": "code",
      "source": [
        "from textblob import TextBlob"
      ],
      "metadata": {
        "id": "sqBV8JjxLNz9"
      },
      "execution_count": 16,
      "outputs": []
    },
    {
      "cell_type": "code",
      "source": [
        "# Define a function to get sentiment polarity with custom lexicon\n",
        "def get_sentiment_with_lexicon(text):\n",
        "    # Initialize sentiment score\n",
        "    sentiment_score = 0\n",
        "\n",
        "    # Split the text into words\n",
        "    words = text.split()\n",
        "\n",
        "    # Check each word against the custom lexicon\n",
        "    for word in words:\n",
        "        if word in custom_lexicon:\n",
        "            sentiment_score += custom_lexicon[word]\n",
        "\n",
        "    # Use TextBlob for English words\n",
        "    blob = TextBlob(text)\n",
        "    sentiment_score += blob.sentiment.polarity\n",
        "\n",
        "    # Classify sentiment based on the total score\n",
        "    if sentiment_score > 0:\n",
        "        return 'positive'\n",
        "    elif sentiment_score < 0:\n",
        "        return 'negative'\n",
        "    else:\n",
        "        return 'neutral'"
      ],
      "metadata": {
        "id": "hqOch3SlLU_o"
      },
      "execution_count": 17,
      "outputs": []
    },
    {
      "cell_type": "code",
      "source": [
        "# Apply the function to generate sentiment labels\n",
        "df['sentiment'] = df['cleaned_singlish'].apply(get_sentiment_with_lexicon)\n",
        "\n",
        "# Display the DataFrame with the new sentiment column\n",
        "print(df[['cleaned_singlish', 'sentiment']].head())"
      ],
      "metadata": {
        "colab": {
          "base_uri": "https://localhost:8080/"
        },
        "id": "g60nAGLTLbEx",
        "outputId": "a0a8d10e-e63a-4b0d-8c25-fda9b84f1920"
      },
      "execution_count": 18,
      "outputs": [
        {
          "output_type": "stream",
          "name": "stdout",
          "text": [
            "                                    cleaned_singlish sentiment\n",
            "0  unkown unkown unkown unkown meya mage pradhana...   neutral\n",
            "1  ne ne eka mage waradak apita hari haman unkown...  negative\n",
            "2  hek kireema saha kata wahagena kela gasana kot...  positive\n",
            "3  hondayi mama hithuwa api uchcharanayen patan g...  positive\n",
            "4  oya magen ahanawa eka harima lassanayi oyage n...  positive\n"
          ]
        }
      ]
    },
    {
      "cell_type": "code",
      "source": [
        "from google.colab import files\n",
        "\n",
        "# Download the CSV file\n",
        "files.download('singlish_lexicon.csv')"
      ],
      "metadata": {
        "colab": {
          "base_uri": "https://localhost:8080/",
          "height": 17
        },
        "id": "k5Fc6_b7TVEX",
        "outputId": "a83c12c3-8f62-48b3-f8c4-102da2358d98"
      },
      "execution_count": 19,
      "outputs": [
        {
          "output_type": "display_data",
          "data": {
            "text/plain": [
              "<IPython.core.display.Javascript object>"
            ],
            "application/javascript": [
              "\n",
              "    async function download(id, filename, size) {\n",
              "      if (!google.colab.kernel.accessAllowed) {\n",
              "        return;\n",
              "      }\n",
              "      const div = document.createElement('div');\n",
              "      const label = document.createElement('label');\n",
              "      label.textContent = `Downloading \"${filename}\": `;\n",
              "      div.appendChild(label);\n",
              "      const progress = document.createElement('progress');\n",
              "      progress.max = size;\n",
              "      div.appendChild(progress);\n",
              "      document.body.appendChild(div);\n",
              "\n",
              "      const buffers = [];\n",
              "      let downloaded = 0;\n",
              "\n",
              "      const channel = await google.colab.kernel.comms.open(id);\n",
              "      // Send a message to notify the kernel that we're ready.\n",
              "      channel.send({})\n",
              "\n",
              "      for await (const message of channel.messages) {\n",
              "        // Send a message to notify the kernel that we're ready.\n",
              "        channel.send({})\n",
              "        if (message.buffers) {\n",
              "          for (const buffer of message.buffers) {\n",
              "            buffers.push(buffer);\n",
              "            downloaded += buffer.byteLength;\n",
              "            progress.value = downloaded;\n",
              "          }\n",
              "        }\n",
              "      }\n",
              "      const blob = new Blob(buffers, {type: 'application/binary'});\n",
              "      const a = document.createElement('a');\n",
              "      a.href = window.URL.createObjectURL(blob);\n",
              "      a.download = filename;\n",
              "      div.appendChild(a);\n",
              "      a.click();\n",
              "      div.remove();\n",
              "    }\n",
              "  "
            ]
          },
          "metadata": {}
        },
        {
          "output_type": "display_data",
          "data": {
            "text/plain": [
              "<IPython.core.display.Javascript object>"
            ],
            "application/javascript": [
              "download(\"download_f95f1a8e-3703-4eda-9531-2b75cde53dd5\", \"singlish_lexicon.csv\", 206)"
            ]
          },
          "metadata": {}
        }
      ]
    },
    {
      "cell_type": "code",
      "source": [
        "from google.colab import files\n",
        "\n",
        "# Upload the lexicon file\n",
        "uploaded = files.upload()\n",
        "\n",
        "# Load the uploaded file\n",
        "for filename in uploaded.keys():\n",
        "    print(f\"Uploaded {filename}\")"
      ],
      "metadata": {
        "colab": {
          "base_uri": "https://localhost:8080/",
          "height": 90
        },
        "id": "8st-RZSmU0no",
        "outputId": "f1ec9912-021b-4f55-8908-4e6dd2fc63a7"
      },
      "execution_count": 20,
      "outputs": [
        {
          "output_type": "display_data",
          "data": {
            "text/plain": [
              "<IPython.core.display.HTML object>"
            ],
            "text/html": [
              "\n",
              "     <input type=\"file\" id=\"files-5c9ecd34-719f-4187-8a9c-40579442e031\" name=\"files[]\" multiple disabled\n",
              "        style=\"border:none\" />\n",
              "     <output id=\"result-5c9ecd34-719f-4187-8a9c-40579442e031\">\n",
              "      Upload widget is only available when the cell has been executed in the\n",
              "      current browser session. Please rerun this cell to enable.\n",
              "      </output>\n",
              "      <script>// Copyright 2017 Google LLC\n",
              "//\n",
              "// Licensed under the Apache License, Version 2.0 (the \"License\");\n",
              "// you may not use this file except in compliance with the License.\n",
              "// You may obtain a copy of the License at\n",
              "//\n",
              "//      http://www.apache.org/licenses/LICENSE-2.0\n",
              "//\n",
              "// Unless required by applicable law or agreed to in writing, software\n",
              "// distributed under the License is distributed on an \"AS IS\" BASIS,\n",
              "// WITHOUT WARRANTIES OR CONDITIONS OF ANY KIND, either express or implied.\n",
              "// See the License for the specific language governing permissions and\n",
              "// limitations under the License.\n",
              "\n",
              "/**\n",
              " * @fileoverview Helpers for google.colab Python module.\n",
              " */\n",
              "(function(scope) {\n",
              "function span(text, styleAttributes = {}) {\n",
              "  const element = document.createElement('span');\n",
              "  element.textContent = text;\n",
              "  for (const key of Object.keys(styleAttributes)) {\n",
              "    element.style[key] = styleAttributes[key];\n",
              "  }\n",
              "  return element;\n",
              "}\n",
              "\n",
              "// Max number of bytes which will be uploaded at a time.\n",
              "const MAX_PAYLOAD_SIZE = 100 * 1024;\n",
              "\n",
              "function _uploadFiles(inputId, outputId) {\n",
              "  const steps = uploadFilesStep(inputId, outputId);\n",
              "  const outputElement = document.getElementById(outputId);\n",
              "  // Cache steps on the outputElement to make it available for the next call\n",
              "  // to uploadFilesContinue from Python.\n",
              "  outputElement.steps = steps;\n",
              "\n",
              "  return _uploadFilesContinue(outputId);\n",
              "}\n",
              "\n",
              "// This is roughly an async generator (not supported in the browser yet),\n",
              "// where there are multiple asynchronous steps and the Python side is going\n",
              "// to poll for completion of each step.\n",
              "// This uses a Promise to block the python side on completion of each step,\n",
              "// then passes the result of the previous step as the input to the next step.\n",
              "function _uploadFilesContinue(outputId) {\n",
              "  const outputElement = document.getElementById(outputId);\n",
              "  const steps = outputElement.steps;\n",
              "\n",
              "  const next = steps.next(outputElement.lastPromiseValue);\n",
              "  return Promise.resolve(next.value.promise).then((value) => {\n",
              "    // Cache the last promise value to make it available to the next\n",
              "    // step of the generator.\n",
              "    outputElement.lastPromiseValue = value;\n",
              "    return next.value.response;\n",
              "  });\n",
              "}\n",
              "\n",
              "/**\n",
              " * Generator function which is called between each async step of the upload\n",
              " * process.\n",
              " * @param {string} inputId Element ID of the input file picker element.\n",
              " * @param {string} outputId Element ID of the output display.\n",
              " * @return {!Iterable<!Object>} Iterable of next steps.\n",
              " */\n",
              "function* uploadFilesStep(inputId, outputId) {\n",
              "  const inputElement = document.getElementById(inputId);\n",
              "  inputElement.disabled = false;\n",
              "\n",
              "  const outputElement = document.getElementById(outputId);\n",
              "  outputElement.innerHTML = '';\n",
              "\n",
              "  const pickedPromise = new Promise((resolve) => {\n",
              "    inputElement.addEventListener('change', (e) => {\n",
              "      resolve(e.target.files);\n",
              "    });\n",
              "  });\n",
              "\n",
              "  const cancel = document.createElement('button');\n",
              "  inputElement.parentElement.appendChild(cancel);\n",
              "  cancel.textContent = 'Cancel upload';\n",
              "  const cancelPromise = new Promise((resolve) => {\n",
              "    cancel.onclick = () => {\n",
              "      resolve(null);\n",
              "    };\n",
              "  });\n",
              "\n",
              "  // Wait for the user to pick the files.\n",
              "  const files = yield {\n",
              "    promise: Promise.race([pickedPromise, cancelPromise]),\n",
              "    response: {\n",
              "      action: 'starting',\n",
              "    }\n",
              "  };\n",
              "\n",
              "  cancel.remove();\n",
              "\n",
              "  // Disable the input element since further picks are not allowed.\n",
              "  inputElement.disabled = true;\n",
              "\n",
              "  if (!files) {\n",
              "    return {\n",
              "      response: {\n",
              "        action: 'complete',\n",
              "      }\n",
              "    };\n",
              "  }\n",
              "\n",
              "  for (const file of files) {\n",
              "    const li = document.createElement('li');\n",
              "    li.append(span(file.name, {fontWeight: 'bold'}));\n",
              "    li.append(span(\n",
              "        `(${file.type || 'n/a'}) - ${file.size} bytes, ` +\n",
              "        `last modified: ${\n",
              "            file.lastModifiedDate ? file.lastModifiedDate.toLocaleDateString() :\n",
              "                                    'n/a'} - `));\n",
              "    const percent = span('0% done');\n",
              "    li.appendChild(percent);\n",
              "\n",
              "    outputElement.appendChild(li);\n",
              "\n",
              "    const fileDataPromise = new Promise((resolve) => {\n",
              "      const reader = new FileReader();\n",
              "      reader.onload = (e) => {\n",
              "        resolve(e.target.result);\n",
              "      };\n",
              "      reader.readAsArrayBuffer(file);\n",
              "    });\n",
              "    // Wait for the data to be ready.\n",
              "    let fileData = yield {\n",
              "      promise: fileDataPromise,\n",
              "      response: {\n",
              "        action: 'continue',\n",
              "      }\n",
              "    };\n",
              "\n",
              "    // Use a chunked sending to avoid message size limits. See b/62115660.\n",
              "    let position = 0;\n",
              "    do {\n",
              "      const length = Math.min(fileData.byteLength - position, MAX_PAYLOAD_SIZE);\n",
              "      const chunk = new Uint8Array(fileData, position, length);\n",
              "      position += length;\n",
              "\n",
              "      const base64 = btoa(String.fromCharCode.apply(null, chunk));\n",
              "      yield {\n",
              "        response: {\n",
              "          action: 'append',\n",
              "          file: file.name,\n",
              "          data: base64,\n",
              "        },\n",
              "      };\n",
              "\n",
              "      let percentDone = fileData.byteLength === 0 ?\n",
              "          100 :\n",
              "          Math.round((position / fileData.byteLength) * 100);\n",
              "      percent.textContent = `${percentDone}% done`;\n",
              "\n",
              "    } while (position < fileData.byteLength);\n",
              "  }\n",
              "\n",
              "  // All done.\n",
              "  yield {\n",
              "    response: {\n",
              "      action: 'complete',\n",
              "    }\n",
              "  };\n",
              "}\n",
              "\n",
              "scope.google = scope.google || {};\n",
              "scope.google.colab = scope.google.colab || {};\n",
              "scope.google.colab._files = {\n",
              "  _uploadFiles,\n",
              "  _uploadFilesContinue,\n",
              "};\n",
              "})(self);\n",
              "</script> "
            ]
          },
          "metadata": {}
        },
        {
          "output_type": "stream",
          "name": "stdout",
          "text": [
            "Saving singlish_lexicon.csv to singlish_lexicon (1).csv\n",
            "Uploaded singlish_lexicon (1).csv\n"
          ]
        }
      ]
    },
    {
      "cell_type": "code",
      "source": [
        "from textblob import TextBlob\n",
        "\n",
        "# Define a function to get sentiment polarity with custom lexicon\n",
        "def get_sentiment_with_lexicon(text):\n",
        "    # Initialize sentiment score\n",
        "    sentiment_score = 0\n",
        "\n",
        "    # Split the text into words\n",
        "    words = text.split()\n",
        "\n",
        "    # Check each word against the custom lexicon\n",
        "    for word in words:\n",
        "        if word in custom_lexicon:\n",
        "            sentiment_score += custom_lexicon[word]\n",
        "\n",
        "    # Use TextBlob for English words\n",
        "    blob = TextBlob(text)\n",
        "    sentiment_score += blob.sentiment.polarity\n",
        "\n",
        "    # Classify sentiment based on the total score\n",
        "    if sentiment_score > 0:\n",
        "        return 'positive'\n",
        "    elif sentiment_score < 0:\n",
        "        return 'negative'\n",
        "    else:\n",
        "        return 'neutral'\n",
        "\n",
        "# Apply the function to generate sentiment labels\n",
        "df['sentiment'] = df['cleaned_singlish'].apply(get_sentiment_with_lexicon)\n",
        "\n",
        "# Display the DataFrame with the new sentiment column\n",
        "print(df[['cleaned_singlish', 'sentiment']].head())"
      ],
      "metadata": {
        "colab": {
          "base_uri": "https://localhost:8080/"
        },
        "id": "xcMhzXrmU2sL",
        "outputId": "38c8ab11-3c88-41a7-8051-e2d12417372b"
      },
      "execution_count": 21,
      "outputs": [
        {
          "output_type": "stream",
          "name": "stdout",
          "text": [
            "                                    cleaned_singlish sentiment\n",
            "0  unkown unkown unkown unkown meya mage pradhana...   neutral\n",
            "1  ne ne eka mage waradak apita hari haman unkown...  negative\n",
            "2  hek kireema saha kata wahagena kela gasana kot...  positive\n",
            "3  hondayi mama hithuwa api uchcharanayen patan g...  positive\n",
            "4  oya magen ahanawa eka harima lassanayi oyage n...  positive\n"
          ]
        }
      ]
    },
    {
      "cell_type": "code",
      "source": [
        "from sklearn.feature_extraction.text import TfidfVectorizer\n",
        "\n",
        "# Convert text to numerical features using TF-IDF\n",
        "vectorizer = TfidfVectorizer(max_features=5000)  # Adjust max_features as needed\n",
        "X = vectorizer.fit_transform(df['cleaned_singlish']).toarray()\n",
        "\n",
        "# Define the target variable (generated sentiment labels)\n",
        "y = df['sentiment']"
      ],
      "metadata": {
        "id": "D4y37oipVMpI"
      },
      "execution_count": 22,
      "outputs": []
    },
    {
      "cell_type": "code",
      "source": [
        "from sklearn.model_selection import train_test_split\n",
        "\n",
        "# Split the data\n",
        "X_train, X_test, y_train, y_test = train_test_split(X, y, test_size=0.2, random_state=42)"
      ],
      "metadata": {
        "id": "Gst8rOyrVoEQ"
      },
      "execution_count": 23,
      "outputs": []
    },
    {
      "cell_type": "code",
      "source": [
        "from sklearn.linear_model import LogisticRegression\n",
        "from sklearn.metrics import accuracy_score, classification_report, confusion_matrix\n",
        "\n",
        "# Initialize and train the model\n",
        "log_reg = LogisticRegression()\n",
        "log_reg.fit(X_train, y_train)\n",
        "\n",
        "# Predict on the test set\n",
        "y_pred = log_reg.predict(X_test)\n",
        "\n",
        "# Evaluate the model\n",
        "print(\"Accuracy:\", accuracy_score(y_test, y_pred))\n",
        "print(\"Classification Report:\\n\", classification_report(y_test, y_pred))\n",
        "print(\"Confusion Matrix:\\n\", confusion_matrix(y_test, y_pred))"
      ],
      "metadata": {
        "colab": {
          "base_uri": "https://localhost:8080/"
        },
        "id": "jIZw9-gZVquW",
        "outputId": "c34a2794-8cbd-4624-c4f1-0fc0ebd65c4d"
      },
      "execution_count": 24,
      "outputs": [
        {
          "output_type": "stream",
          "name": "stdout",
          "text": [
            "Accuracy: 0.9818682912677691\n",
            "Classification Report:\n",
            "               precision    recall  f1-score   support\n",
            "\n",
            "    negative       0.97      0.90      0.93       459\n",
            "     neutral       0.98      1.00      0.99      6039\n",
            "    positive       0.98      0.84      0.91       396\n",
            "\n",
            "    accuracy                           0.98      6894\n",
            "   macro avg       0.98      0.91      0.94      6894\n",
            "weighted avg       0.98      0.98      0.98      6894\n",
            "\n",
            "Confusion Matrix:\n",
            " [[ 411   48    0]\n",
            " [   8 6025    6]\n",
            " [   4   59  333]]\n"
          ]
        }
      ]
    },
    {
      "cell_type": "code",
      "source": [
        "from sklearn.svm import SVC\n",
        "\n",
        "# Initialize and train the model\n",
        "svm = SVC(kernel='linear')\n",
        "svm.fit(X_train, y_train)\n",
        "\n",
        "# Predict on the test set\n",
        "y_pred_svm = svm.predict(X_test)\n",
        "\n",
        "# Evaluate the model\n",
        "print(\"SVM Results:\")\n",
        "print(\"Accuracy:\", accuracy_score(y_test, y_pred_svm))\n",
        "print(\"Classification Report:\\n\", classification_report(y_test, y_pred_svm))\n",
        "print(\"Confusion Matrix:\\n\", confusion_matrix(y_test, y_pred_svm))"
      ],
      "metadata": {
        "colab": {
          "base_uri": "https://localhost:8080/"
        },
        "id": "XaDy3JAQVuxy",
        "outputId": "b92e152a-e0a4-469d-8c9f-cf166ded1d6a"
      },
      "execution_count": 25,
      "outputs": [
        {
          "output_type": "stream",
          "name": "stdout",
          "text": [
            "SVM Results:\n",
            "Accuracy: 0.9963736582535538\n",
            "Classification Report:\n",
            "               precision    recall  f1-score   support\n",
            "\n",
            "    negative       0.98      0.99      0.99       459\n",
            "     neutral       1.00      1.00      1.00      6039\n",
            "    positive       0.98      0.98      0.98       396\n",
            "\n",
            "    accuracy                           1.00      6894\n",
            "   macro avg       0.99      0.99      0.99      6894\n",
            "weighted avg       1.00      1.00      1.00      6894\n",
            "\n",
            "Confusion Matrix:\n",
            " [[ 455    4    0]\n",
            " [   6 6027    6]\n",
            " [   2    7  387]]\n"
          ]
        }
      ]
    },
    {
      "cell_type": "code",
      "source": [
        "from sklearn.naive_bayes import MultinomialNB\n",
        "\n",
        "# Initialize and train the model\n",
        "nb = MultinomialNB()\n",
        "nb.fit(X_train, y_train)\n",
        "\n",
        "# Predict on the test set\n",
        "y_pred_nb = nb.predict(X_test)\n",
        "\n",
        "# Evaluate the model\n",
        "print(\"Naive Bayes Results:\")\n",
        "print(\"Accuracy:\", accuracy_score(y_test, y_pred_nb))\n",
        "print(\"Classification Report:\\n\", classification_report(y_test, y_pred_nb))\n",
        "print(\"Confusion Matrix:\\n\", confusion_matrix(y_test, y_pred_nb))"
      ],
      "metadata": {
        "colab": {
          "base_uri": "https://localhost:8080/"
        },
        "id": "7AsiO3RbWGm7",
        "outputId": "bedb78f0-70da-4b3b-be12-1d0e407305d3"
      },
      "execution_count": 26,
      "outputs": [
        {
          "output_type": "stream",
          "name": "stdout",
          "text": [
            "Naive Bayes Results:\n",
            "Accuracy: 0.9006382361473745\n",
            "Classification Report:\n",
            "               precision    recall  f1-score   support\n",
            "\n",
            "    negative       0.87      0.29      0.43       459\n",
            "     neutral       0.90      1.00      0.95      6039\n",
            "    positive       1.00      0.12      0.21       396\n",
            "\n",
            "    accuracy                           0.90      6894\n",
            "   macro avg       0.92      0.47      0.53      6894\n",
            "weighted avg       0.90      0.90      0.87      6894\n",
            "\n",
            "Confusion Matrix:\n",
            " [[ 131  328    0]\n",
            " [   8 6031    0]\n",
            " [  12  337   47]]\n"
          ]
        }
      ]
    },
    {
      "cell_type": "code",
      "source": [
        "from sklearn.ensemble import RandomForestClassifier\n",
        "\n",
        "# Initialize and train the model\n",
        "rf = RandomForestClassifier(n_estimators=100, random_state=42)\n",
        "rf.fit(X_train, y_train)\n",
        "\n",
        "# Predict on the test set\n",
        "y_pred_rf = rf.predict(X_test)\n",
        "\n",
        "# Evaluate the model\n",
        "print(\"Random Forest Results:\")\n",
        "print(\"Accuracy:\", accuracy_score(y_test, y_pred_rf))\n",
        "print(\"Classification Report:\\n\", classification_report(y_test, y_pred_rf))\n",
        "print(\"Confusion Matrix:\\n\", confusion_matrix(y_test, y_pred_rf))"
      ],
      "metadata": {
        "colab": {
          "base_uri": "https://localhost:8080/"
        },
        "id": "cR3iyQ8eZgZI",
        "outputId": "961fb737-31be-45f3-ec8e-06ffcb88c550"
      },
      "execution_count": 27,
      "outputs": [
        {
          "output_type": "stream",
          "name": "stdout",
          "text": [
            "Random Forest Results:\n",
            "Accuracy: 0.9957934435741225\n",
            "Classification Report:\n",
            "               precision    recall  f1-score   support\n",
            "\n",
            "    negative       0.98      0.99      0.98       459\n",
            "     neutral       1.00      1.00      1.00      6039\n",
            "    positive       0.98      0.97      0.98       396\n",
            "\n",
            "    accuracy                           1.00      6894\n",
            "   macro avg       0.99      0.99      0.99      6894\n",
            "weighted avg       1.00      1.00      1.00      6894\n",
            "\n",
            "Confusion Matrix:\n",
            " [[ 453    6    0]\n",
            " [   5 6026    8]\n",
            " [   3    7  386]]\n"
          ]
        }
      ]
    },
    {
      "cell_type": "code",
      "source": [
        "print(\"Logistic Regression Accuracy:\", accuracy_score(y_test, y_pred))\n",
        "print(\"SVM Accuracy:\", accuracy_score(y_test, y_pred_svm))\n",
        "print(\"Naive Bayes Accuracy:\", accuracy_score(y_test, y_pred_nb))\n",
        "print(\"Random Forest Accuracy:\", accuracy_score(y_test, y_pred_rf))"
      ],
      "metadata": {
        "colab": {
          "base_uri": "https://localhost:8080/"
        },
        "id": "Vi7qwod6Zqx3",
        "outputId": "39254e77-f061-4416-b801-9e883a2a6244"
      },
      "execution_count": 29,
      "outputs": [
        {
          "output_type": "stream",
          "name": "stdout",
          "text": [
            "Logistic Regression Accuracy: 0.9818682912677691\n",
            "SVM Accuracy: 0.9963736582535538\n",
            "Naive Bayes Accuracy: 0.9006382361473745\n",
            "Random Forest Accuracy: 0.9957934435741225\n"
          ]
        }
      ]
    },
    {
      "cell_type": "code",
      "source": [],
      "metadata": {
        "id": "gZuWwGSwathc"
      },
      "execution_count": null,
      "outputs": []
    }
  ]
}